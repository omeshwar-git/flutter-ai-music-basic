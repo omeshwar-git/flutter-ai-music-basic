{
 "cells": [
  {
   "cell_type": "code",
   "execution_count": 1,
   "metadata": {},
   "outputs": [],
   "source": [
    "import mido\n",
    "from mido import MidiFile, MidiTrack, Message\n",
    "from tensorflow.keras.layers import LSTM, Dense, Activation, Dropout, Flatten\n",
    "from tensorflow.keras.preprocessing import sequence\n",
    "from tensorflow.keras.models import Sequential\n",
    "from tensorflow.keras.optimizers import Adam\n",
    "from sklearn.preprocessing import MinMaxScaler\n",
    "import numpy as np"
   ]
  },
  {
   "cell_type": "code",
   "execution_count": 3,
   "metadata": {
    "scrolled": true
   },
   "outputs": [],
   "source": [
    "notes = []\n",
    "for msg in MidiFile('0.mid') :\n",
    "    try:\n",
    "        if not msg.is_meta and msg.channel in [0, 1, 2, 3] and msg.type == 'note_on':\n",
    "            data = msg.bytes()\n",
    "            notes.append(data[1])\n",
    "    except:\n",
    "        pass"
   ]
  },
  {
   "cell_type": "code",
   "execution_count": 4,
   "metadata": {},
   "outputs": [],
   "source": [
    "scaler = MinMaxScaler(feature_range=(0,1))\n",
    "scaler.fit(np.array(notes).reshape(-1,1))\n",
    "notes = list(scaler.transform(np.array(notes).reshape(-1,1)))"
   ]
  },
  {
   "cell_type": "code",
   "execution_count": 5,
   "metadata": {},
   "outputs": [],
   "source": [
    "notes = [list(note) for note in notes]\n",
    "\n",
    "X = []\n",
    "y = []\n",
    "\n",
    "n_prev = 20\n",
    "for i in range(len(notes)-n_prev):\n",
    "    X.append(notes[i:i+n_prev])\n",
    "    y.append(notes[i+n_prev])"
   ]
  },
  {
   "cell_type": "code",
   "execution_count": 6,
   "metadata": {},
   "outputs": [
    {
     "name": "stderr",
     "output_type": "stream",
     "text": [
      "WARNING: Logging before flag parsing goes to stderr.\n",
      "W1112 19:55:00.756745 139809348654912 callbacks.py:863] `period` argument is deprecated. Please use `save_freq` to specify the frequency in number of samples seen.\n"
     ]
    }
   ],
   "source": [
    "model = Sequential()\n",
    "model.add(LSTM(256, input_shape=(n_prev, 1), return_sequences=True))\n",
    "model.add(Dropout(0.3))\n",
    "model.add(LSTM(128, input_shape=(n_prev, 1), return_sequences=True))\n",
    "model.add(Dropout(0.3))\n",
    "model.add(LSTM(256, input_shape=(n_prev, 1), return_sequences=False))\n",
    "model.add(Dropout(0.3))\n",
    "model.add(Dense(1))\n",
    "model.add(Activation('linear'))\n",
    "optimizer = Adam(lr=0.001)\n",
    "model.compile(loss='mse', optimizer=optimizer)"
   ]
  },
  {
   "cell_type": "code",
   "execution_count": null,
   "metadata": {
    "scrolled": true
   },
   "outputs": [
    {
     "name": "stdout",
     "output_type": "stream",
     "text": [
      "Train on 34080 samples\n",
      "Epoch 1/25\n",
      "34080/34080 [==============================] - 163s 5ms/sample - loss: 0.0555\n",
      "Epoch 2/25\n",
      "34080/34080 [==============================] - 167s 5ms/sample - loss: 0.0395\n",
      "Epoch 3/25\n",
      "34080/34080 [==============================] - 151s 4ms/sample - loss: 0.0281\n",
      "Epoch 4/25\n",
      "34080/34080 [==============================] - 154s 5ms/sample - loss: 0.0086\n",
      "Epoch 5/25\n",
      "34048/34080 [============================>.] - ETA: 0s - loss: 0.0037\n",
      "Epoch 00005: saving model to ./Checkpoints/checkpoint_model_05.hdf5\n",
      "34080/34080 [==============================] - 154s 5ms/sample - loss: 0.0037\n",
      "Epoch 6/25\n",
      "34080/34080 [==============================] - 155s 5ms/sample - loss: 0.0026\n",
      "Epoch 7/25\n",
      "34080/34080 [==============================] - 162s 5ms/sample - loss: 0.0025\n",
      "Epoch 8/25\n",
      "34080/34080 [==============================] - 147s 4ms/sample - loss: 0.0017\n",
      "Epoch 9/25\n",
      "15040/34080 [============>.................] - ETA: 1:26 - loss: 0.0016"
     ]
    }
   ],
   "source": [
    "model.fit(np.array(X), np.array(y), 32, 25, verbose=1)"
   ]
  }
 ],
 "metadata": {
  "kernelspec": {
   "display_name": "Python 3",
   "language": "python",
   "name": "python3"
  },
  "language_info": {
   "codemirror_mode": {
    "name": "ipython",
    "version": 3
   },
   "file_extension": ".py",
   "mimetype": "text/x-python",
   "name": "python",
   "nbconvert_exporter": "python",
   "pygments_lexer": "ipython3",
   "version": "3.7.0"
  }
 },
 "nbformat": 4,
 "nbformat_minor": 2
}
